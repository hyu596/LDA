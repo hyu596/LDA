{
 "cells": [
  {
   "cell_type": "code",
   "execution_count": 2,
   "metadata": {},
   "outputs": [
    {
     "name": "stderr",
     "output_type": "stream",
     "text": [
      "/home/ubuntu/anaconda3/lib/python3.6/site-packages/matplotlib/__init__.py:1067: UserWarning: Duplicate key in file \"/home/ubuntu/.config/matplotlib/matplotlibrc\", line #2\n",
      "  (fname, cnt))\n",
      "/home/ubuntu/anaconda3/lib/python3.6/site-packages/matplotlib/__init__.py:1067: UserWarning: Duplicate key in file \"/home/ubuntu/.config/matplotlib/matplotlibrc\", line #3\n",
      "  (fname, cnt))\n"
     ]
    }
   ],
   "source": [
    "import numpy as np\n",
    "import os\n",
    "import matplotlib.pyplot as plt"
   ]
  },
  {
   "cell_type": "code",
   "execution_count": 3,
   "metadata": {},
   "outputs": [
    {
     "data": {
      "text/plain": [
       "((130,), (130,))"
      ]
     },
     "execution_count": 3,
     "metadata": {},
     "output_type": "execute_result"
    }
   ],
   "source": [
    "# n=1, p=1\n",
    "clients = 1\n",
    "\n",
    "temp = np.load('./results/n=1,p=1,time=200/logli/client0.npy')\n",
    "length = temp.shape[0]\n",
    "\n",
    "logli_1_1 = np.zeros((1, length))\n",
    "source_dir = './results/n=1,p=1,time=200/logli/client'\n",
    "for i in range(clients):\n",
    "    logli_1_1[i] = np.load(source_dir+str(i)+'.npy')\n",
    "logli_1_1 = np.mean(logli_1_1, 0)\n",
    "\n",
    "time_1_1 = np.zeros((1, length))\n",
    "source_dir = './results/n=1,p=1,time=200/time/client'\n",
    "for i in range(clients):\n",
    "    time_1_1[i] = np.load(source_dir+str(i)+'.npy')\n",
    "time_1_1 = np.mean(time_1_1, 0)\n",
    "\n",
    "logli_1_1.shape, time_1_1.shape"
   ]
  },
  {
   "cell_type": "code",
   "execution_count": 4,
   "metadata": {},
   "outputs": [
    {
     "data": {
      "text/plain": [
       "((248,), (248,))"
      ]
     },
     "execution_count": 4,
     "metadata": {},
     "output_type": "execute_result"
    }
   ],
   "source": [
    "# n=2, p=1\n",
    "clients = 2\n",
    "\n",
    "temp = np.load('./results/n=2,p=1,time=200/logli/client0.npy')\n",
    "length = temp.shape[0]\n",
    "\n",
    "logli_2_1 = np.zeros((2, length))\n",
    "source_dir = './results/n=2,p=1,time=200/logli/client'\n",
    "for i in range(clients):\n",
    "    logli_2_1[i] = np.load(source_dir+str(i)+'.npy')\n",
    "logli_2_1 = np.mean(logli_2_1, 0)\n",
    "\n",
    "time_2_1 = np.zeros((2, length))\n",
    "source_dir = './results/n=2,p=1,time=200/time/client'\n",
    "for i in range(clients):\n",
    "    time_2_1[i] = np.load(source_dir+str(i)+'.npy')\n",
    "time_2_1 = np.mean(time_2_1, 0)\n",
    "\n",
    "logli_2_1.shape, time_2_1.shape"
   ]
  },
  {
   "cell_type": "code",
   "execution_count": 5,
   "metadata": {},
   "outputs": [
    {
     "data": {
      "text/plain": [
       "((321,), (321,))"
      ]
     },
     "execution_count": 5,
     "metadata": {},
     "output_type": "execute_result"
    }
   ],
   "source": [
    "# n=5, p=1\n",
    "clients = 5\n",
    "\n",
    "temp = np.load('./results/n=5,p=1,time=200/logli/client0.npy')\n",
    "length = temp.shape[0]\n",
    "\n",
    "logli_5_1 = np.zeros((5, length))\n",
    "source_dir = './results/n=5,p=1,time=200/logli/client'\n",
    "for i in range(clients):\n",
    "    logli_5_1[i] = np.load(source_dir+str(i)+'.npy')\n",
    "logli_5_1 = np.mean(logli_5_1, 0)\n",
    "\n",
    "time_5_1 = np.zeros((5, length))\n",
    "source_dir = './results/n=5,p=1,time=200/time/client'\n",
    "for i in range(clients):\n",
    "    time_5_1[i] = np.load(source_dir+str(i)+'.npy')\n",
    "time_5_1 = np.mean(time_5_1, 0)\n",
    "\n",
    "logli_5_1.shape, time_5_1.shape"
   ]
  },
  {
   "cell_type": "code",
   "execution_count": 6,
   "metadata": {},
   "outputs": [
    {
     "data": {
      "text/plain": [
       "((351,), (351,))"
      ]
     },
     "execution_count": 6,
     "metadata": {},
     "output_type": "execute_result"
    }
   ],
   "source": [
    "# n=8, p=1\n",
    "clients = 8\n",
    "\n",
    "temp = np.load('./results/n=8,p=1,time=200/logli/client0.npy')\n",
    "length = temp.shape[0]\n",
    "\n",
    "logli_8_1 = np.zeros((8, length))\n",
    "source_dir = './results/n=8,p=1,time=200/logli/client'\n",
    "for i in range(clients):\n",
    "    logli_8_1[i] = np.load(source_dir+str(i)+'.npy')\n",
    "logli_8_1 = np.mean(logli_8_1, 0)\n",
    "\n",
    "time_8_1 = np.zeros((8, length))\n",
    "source_dir = './results/n=8,p=1,time=200/time/client'\n",
    "for i in range(clients):\n",
    "    time_8_1[i] = np.load(source_dir+str(i)+'.npy')\n",
    "time_8_1 = np.mean(time_8_1, 0)\n",
    "\n",
    "logli_8_1.shape, time_8_1.shape"
   ]
  },
  {
   "cell_type": "code",
   "execution_count": 7,
   "metadata": {},
   "outputs": [
    {
     "data": {
      "text/plain": [
       "((297,), (297,))"
      ]
     },
     "execution_count": 7,
     "metadata": {},
     "output_type": "execute_result"
    }
   ],
   "source": [
    "# n=10, p=1\n",
    "clients = 10\n",
    "\n",
    "temp = np.load('./results/n=10,p=1,time=200/logli/client0.npy')\n",
    "length = temp.shape[0]\n",
    "\n",
    "logli_10_1 = np.zeros((10, length))\n",
    "source_dir = './results/n=10,p=1,time=200/logli/client'\n",
    "for i in range(clients):\n",
    "    logli_10_1[i] = np.load(source_dir+str(i)+'.npy')\n",
    "logli_10_1 = np.mean(logli_10_1, 0)\n",
    "\n",
    "time_10_1 = np.zeros((10, length))\n",
    "source_dir = './results/n=10,p=1,time=200/time/client'\n",
    "for i in range(clients):\n",
    "    time_10_1[i] = np.load(source_dir+str(i)+'.npy')\n",
    "time_10_1 = np.mean(time_10_1, 0)\n",
    "\n",
    "logli_10_1.shape, time_10_1.shape"
   ]
  },
  {
   "cell_type": "code",
   "execution_count": 15,
   "metadata": {},
   "outputs": [
    {
     "data": {
      "image/png": "[encoded data removed]",
      "text/plain": [
       "<Figure size 432x288 with 1 Axes>"
      ]
     },
     "metadata": {},
     "output_type": "display_data"
    }
   ],
   "source": [
    "fig = plt.figure()\n",
    "ax = fig.add_axes((.1, .4, .8, .5))\n",
    "ax.plot(time_1_1, logli_1_1, label='n=1, p=1')\n",
    "ax.plot(time_2_1, logli_2_1, label='n=2, p=1')\n",
    "ax.plot(time_5_1, logli_5_1, label='n=5, p=1')\n",
    "#ax.plot(time_8_1, logli_8_1, label='n=8, p=1')\n",
    "#ax.plot(time_10_1, logli_10_1, label='n=10, p=1')\n",
    "ax.legend()\n",
    "ax.set_title(\"Loglikelihood Comparison\")\n",
    "ax.set_xlabel('time(sec)')\n",
    "ax.set_ylabel('loglikehood')\n",
    "ax.set_ylim(bottom = -1.01e7)\n",
    "plt.show()"
   ]
  },
  {
   "cell_type": "code",
   "execution_count": 13,
   "metadata": {},
   "outputs": [
    {
     "data": {
      "text/plain": [
       "194.03769445419312"
      ]
     },
     "execution_count": 13,
     "metadata": {},
     "output_type": "execute_result"
    }
   ],
   "source": [
    "temp = [184.8416838645935, 1.6579139232635498, 1.1388275623321533, 5.8625876903533936, 0.5366814136505127]\n",
    "sum(temp)"
   ]
  },
  {
   "cell_type": "code",
   "execution_count": null,
   "metadata": {},
   "outputs": [],
   "source": []
  }
 ],
 "metadata": {
  "kernelspec": {
   "display_name": "Python 3",
   "language": "python",
   "name": "python3"
  },
  "language_info": {
   "codemirror_mode": {
    "name": "ipython",
    "version": 3
   },
   "file_extension": ".py",
   "mimetype": "text/x-python",
   "name": "python",
   "nbconvert_exporter": "python",
   "pygments_lexer": "ipython3",
   "version": "3.6.4"
  }
 },
 "nbformat": 4,
 "nbformat_minor": 2
}
